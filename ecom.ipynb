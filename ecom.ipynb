{
 "cells": [
  {
   "cell_type": "code",
   "execution_count": null,
   "id": "0e9bf59a-dd65-4e88-9830-ec9618b9f83a",
   "metadata": {},
   "outputs": [],
   "source": [
    "import pandas as pd\n",
    "from faker import Faker\n",
    "import random\n",
    "from datetime import datetime, timedelta"
   ]
  },
  {
   "cell_type": "code",
   "execution_count": 13,
   "id": "070af122-9c4e-4be0-87dd-ca0f1c717903",
   "metadata": {},
   "outputs": [],
   "source": [
    "fake = Faker()\n",
    "num_sellers = 1000\n",
    "num_orders = 10000\n",
    "num_feedback = 8000\n",
    "num_inventory = 5000\n",
    "num_audits = 2000\n",
    "# seller\n",
    "seller = pd.DataFrame({\n",
    "    'seller_id': ['S'+ str(i) for i in range( 1, num_sellers+1)],\n",
    "    'seller_name':[fake.company() for _ in range(num_sellers)],\n",
    "    'region': [random.choice(['US West', 'US East','US North', 'US South']) for _ in range(num_sellers)],\n",
    "    'start_date': [fake.date_between(start_date='-5y', end_date='today') for _ in range(num_sellers)],\n",
    "    'email': [fake.email() for _ in range(num_sellers)]               \n",
    "})"
   ]
  },
  {
   "cell_type": "code",
   "execution_count": 14,
   "id": "88a280b4-81a4-4338-8cc3-6d08774f1dc0",
   "metadata": {},
   "outputs": [
    {
     "data": {
      "text/html": [
       "<div>\n",
       "<style scoped>\n",
       "    .dataframe tbody tr th:only-of-type {\n",
       "        vertical-align: middle;\n",
       "    }\n",
       "\n",
       "    .dataframe tbody tr th {\n",
       "        vertical-align: top;\n",
       "    }\n",
       "\n",
       "    .dataframe thead th {\n",
       "        text-align: right;\n",
       "    }\n",
       "</style>\n",
       "<table border=\"1\" class=\"dataframe\">\n",
       "  <thead>\n",
       "    <tr style=\"text-align: right;\">\n",
       "      <th></th>\n",
       "      <th>seller_id</th>\n",
       "      <th>seller_name</th>\n",
       "      <th>region</th>\n",
       "      <th>start_date</th>\n",
       "      <th>email</th>\n",
       "    </tr>\n",
       "  </thead>\n",
       "  <tbody>\n",
       "    <tr>\n",
       "      <th>0</th>\n",
       "      <td>S1</td>\n",
       "      <td>Garcia-Brown</td>\n",
       "      <td>US East</td>\n",
       "      <td>2021-12-24</td>\n",
       "      <td>bjones@example.org</td>\n",
       "    </tr>\n",
       "    <tr>\n",
       "      <th>1</th>\n",
       "      <td>S2</td>\n",
       "      <td>Schneider, Butler and Hernandez</td>\n",
       "      <td>US South</td>\n",
       "      <td>2022-03-23</td>\n",
       "      <td>ortegacollin@example.org</td>\n",
       "    </tr>\n",
       "    <tr>\n",
       "      <th>2</th>\n",
       "      <td>S3</td>\n",
       "      <td>Rogers-Brown</td>\n",
       "      <td>US West</td>\n",
       "      <td>2021-07-16</td>\n",
       "      <td>hannahholland@example.net</td>\n",
       "    </tr>\n",
       "  </tbody>\n",
       "</table>\n",
       "</div>"
      ],
      "text/plain": [
       "  seller_id                      seller_name    region  start_date  \\\n",
       "0        S1                     Garcia-Brown   US East  2021-12-24   \n",
       "1        S2  Schneider, Butler and Hernandez  US South  2022-03-23   \n",
       "2        S3                     Rogers-Brown   US West  2021-07-16   \n",
       "\n",
       "                       email  \n",
       "0         bjones@example.org  \n",
       "1   ortegacollin@example.org  \n",
       "2  hannahholland@example.net  "
      ]
     },
     "execution_count": 14,
     "metadata": {},
     "output_type": "execute_result"
    }
   ],
   "source": [
    "seller.head(3)"
   ]
  },
  {
   "cell_type": "code",
   "execution_count": 15,
   "id": "86be8ce6-6ff4-4075-bf65-0f2773b83d7d",
   "metadata": {},
   "outputs": [],
   "source": [
    "# orders\n",
    "order_details = pd.DataFrame({\n",
    "    'order_id':[ 'Or' + str(i) for i in range(1, num_orders+1)],\n",
    "    'seller_id': [random.choice(seller['seller_id'].tolist()) for _ in range(num_orders)],\n",
    "    'order_date':[fake.date_between(start_date='-5y', end_date='today') for _ in range(num_orders)],\n",
    "    'total_amount':[round(random.uniform(10,500),2) for _ in range(num_orders)]    \n",
    "})"
   ]
  },
  {
   "cell_type": "code",
   "execution_count": 16,
   "id": "123b5460-c757-453c-904e-e4d2641cbb8e",
   "metadata": {},
   "outputs": [
    {
     "data": {
      "text/html": [
       "<div>\n",
       "<style scoped>\n",
       "    .dataframe tbody tr th:only-of-type {\n",
       "        vertical-align: middle;\n",
       "    }\n",
       "\n",
       "    .dataframe tbody tr th {\n",
       "        vertical-align: top;\n",
       "    }\n",
       "\n",
       "    .dataframe thead th {\n",
       "        text-align: right;\n",
       "    }\n",
       "</style>\n",
       "<table border=\"1\" class=\"dataframe\">\n",
       "  <thead>\n",
       "    <tr style=\"text-align: right;\">\n",
       "      <th></th>\n",
       "      <th>order_id</th>\n",
       "      <th>seller_id</th>\n",
       "      <th>order_date</th>\n",
       "      <th>total_amount</th>\n",
       "    </tr>\n",
       "  </thead>\n",
       "  <tbody>\n",
       "    <tr>\n",
       "      <th>0</th>\n",
       "      <td>Or1</td>\n",
       "      <td>S883</td>\n",
       "      <td>2023-05-19</td>\n",
       "      <td>419.76</td>\n",
       "    </tr>\n",
       "    <tr>\n",
       "      <th>1</th>\n",
       "      <td>Or2</td>\n",
       "      <td>S110</td>\n",
       "      <td>2025-05-30</td>\n",
       "      <td>220.92</td>\n",
       "    </tr>\n",
       "    <tr>\n",
       "      <th>2</th>\n",
       "      <td>Or3</td>\n",
       "      <td>S786</td>\n",
       "      <td>2024-07-19</td>\n",
       "      <td>308.39</td>\n",
       "    </tr>\n",
       "  </tbody>\n",
       "</table>\n",
       "</div>"
      ],
      "text/plain": [
       "  order_id seller_id  order_date  total_amount\n",
       "0      Or1      S883  2023-05-19        419.76\n",
       "1      Or2      S110  2025-05-30        220.92\n",
       "2      Or3      S786  2024-07-19        308.39"
      ]
     },
     "execution_count": 16,
     "metadata": {},
     "output_type": "execute_result"
    }
   ],
   "source": [
    "order_details.head(3)"
   ]
  },
  {
   "cell_type": "code",
   "execution_count": 17,
   "id": "e9dd3b41-3f51-42cf-8b51-6a87f62f5483",
   "metadata": {},
   "outputs": [],
   "source": [
    "# Inventory\n",
    "inventory = pd.DataFrame({\n",
    "    'inventory_id':['Inv' + str(i) for i in range(1,num_inventory+1)],\n",
    "    'product_id':[f'P{random.randint(1000,9999)}' for _ in range(num_inventory)],\n",
    "    'seller_id': [random.choice(seller['seller_id'].tolist()) for _ in range(num_inventory)],\n",
    "    'stock_level':[random.randint(0,100) for _ in range(num_inventory)],\n",
    "})"
   ]
  },
  {
   "cell_type": "code",
   "execution_count": 18,
   "id": "32f4a4a1-b046-4263-ac25-fd08df6bbd9f",
   "metadata": {},
   "outputs": [
    {
     "data": {
      "text/html": [
       "<div>\n",
       "<style scoped>\n",
       "    .dataframe tbody tr th:only-of-type {\n",
       "        vertical-align: middle;\n",
       "    }\n",
       "\n",
       "    .dataframe tbody tr th {\n",
       "        vertical-align: top;\n",
       "    }\n",
       "\n",
       "    .dataframe thead th {\n",
       "        text-align: right;\n",
       "    }\n",
       "</style>\n",
       "<table border=\"1\" class=\"dataframe\">\n",
       "  <thead>\n",
       "    <tr style=\"text-align: right;\">\n",
       "      <th></th>\n",
       "      <th>inventory_id</th>\n",
       "      <th>product_id</th>\n",
       "      <th>order_id</th>\n",
       "      <th>stock_level</th>\n",
       "    </tr>\n",
       "  </thead>\n",
       "  <tbody>\n",
       "    <tr>\n",
       "      <th>0</th>\n",
       "      <td>Inv1</td>\n",
       "      <td>P6442</td>\n",
       "      <td>Or444</td>\n",
       "      <td>37</td>\n",
       "    </tr>\n",
       "    <tr>\n",
       "      <th>1</th>\n",
       "      <td>Inv2</td>\n",
       "      <td>P5706</td>\n",
       "      <td>Or5535</td>\n",
       "      <td>64</td>\n",
       "    </tr>\n",
       "    <tr>\n",
       "      <th>2</th>\n",
       "      <td>Inv3</td>\n",
       "      <td>P1524</td>\n",
       "      <td>Or2531</td>\n",
       "      <td>85</td>\n",
       "    </tr>\n",
       "  </tbody>\n",
       "</table>\n",
       "</div>"
      ],
      "text/plain": [
       "  inventory_id product_id order_id  stock_level\n",
       "0         Inv1      P6442    Or444           37\n",
       "1         Inv2      P5706   Or5535           64\n",
       "2         Inv3      P1524   Or2531           85"
      ]
     },
     "execution_count": 18,
     "metadata": {},
     "output_type": "execute_result"
    }
   ],
   "source": [
    "inventory.head(3)"
   ]
  },
  {
   "cell_type": "code",
   "execution_count": 19,
   "id": "9188645d-ef25-4963-a6bf-27855806b9de",
   "metadata": {},
   "outputs": [],
   "source": [
    "# Customer Feedback\n",
    "customer_feedback = pd.DataFrame({\n",
    "    'feedback_id': ['F' + str(i) for i in range(1, num_feedback + 1)],\n",
    "    'order_id': [random.choice(order_details['order_id'].tolist()) for _ in range(num_feedback)],\n",
    "    'seller_id': [random.choice(seller['seller_id'].tolist()) for _ in range(num_feedback)],\n",
    "    'ratings': [random.randint(1,5) for _ in range(num_feedback)],\n",
    "    'feedback_date': [fake.date_time_between(start_date='-5y', end_date='now') for _ in range(num_feedback)]\n",
    "})"
   ]
  },
  {
   "cell_type": "code",
   "execution_count": 20,
   "id": "5ede6ecb-d107-43de-a8f4-8769d8fe8935",
   "metadata": {},
   "outputs": [
    {
     "data": {
      "text/html": [
       "<div>\n",
       "<style scoped>\n",
       "    .dataframe tbody tr th:only-of-type {\n",
       "        vertical-align: middle;\n",
       "    }\n",
       "\n",
       "    .dataframe tbody tr th {\n",
       "        vertical-align: top;\n",
       "    }\n",
       "\n",
       "    .dataframe thead th {\n",
       "        text-align: right;\n",
       "    }\n",
       "</style>\n",
       "<table border=\"1\" class=\"dataframe\">\n",
       "  <thead>\n",
       "    <tr style=\"text-align: right;\">\n",
       "      <th></th>\n",
       "      <th>feedback_id</th>\n",
       "      <th>order_id</th>\n",
       "      <th>seller_id</th>\n",
       "      <th>ratings</th>\n",
       "      <th>feedback_date</th>\n",
       "    </tr>\n",
       "  </thead>\n",
       "  <tbody>\n",
       "    <tr>\n",
       "      <th>0</th>\n",
       "      <td>F1</td>\n",
       "      <td>Or4247</td>\n",
       "      <td>S65</td>\n",
       "      <td>3</td>\n",
       "      <td>2022-09-13 17:05:22</td>\n",
       "    </tr>\n",
       "    <tr>\n",
       "      <th>1</th>\n",
       "      <td>F2</td>\n",
       "      <td>Or6300</td>\n",
       "      <td>S118</td>\n",
       "      <td>2</td>\n",
       "      <td>2020-06-29 03:13:33</td>\n",
       "    </tr>\n",
       "    <tr>\n",
       "      <th>2</th>\n",
       "      <td>F3</td>\n",
       "      <td>Or7906</td>\n",
       "      <td>S831</td>\n",
       "      <td>1</td>\n",
       "      <td>2024-08-09 10:24:11</td>\n",
       "    </tr>\n",
       "  </tbody>\n",
       "</table>\n",
       "</div>"
      ],
      "text/plain": [
       "  feedback_id order_id seller_id  ratings       feedback_date\n",
       "0          F1   Or4247       S65        3 2022-09-13 17:05:22\n",
       "1          F2   Or6300      S118        2 2020-06-29 03:13:33\n",
       "2          F3   Or7906      S831        1 2024-08-09 10:24:11"
      ]
     },
     "execution_count": 20,
     "metadata": {},
     "output_type": "execute_result"
    }
   ],
   "source": [
    "customer_feedback.head(3)"
   ]
  },
  {
   "cell_type": "code",
   "execution_count": 21,
   "id": "aa67ebd0-3a42-4221-9532-28f5ba2d5d75",
   "metadata": {},
   "outputs": [],
   "source": [
    "# audits\n",
    "audits = pd.DataFrame({\n",
    "    'audit_id': ['A' + str(i) for i in range(1, num_audits + 1)],\n",
    "    'seller_id': [random.choice(seller['seller_id'].tolist()) for _ in range(num_audits)],\n",
    "    'audit_date': [fake.date_time_between(start_date='-5y', end_date='now') for _ in range(num_audits)], # Corrected 'today' to 'now'\n",
    "    'complaince_score': [random.randint(50, 100) for _ in range(num_audits)]\n",
    "})                                                           "
   ]
  },
  {
   "cell_type": "code",
   "execution_count": 22,
   "id": "a8fa68d8-5b14-470d-a794-e7b6626090db",
   "metadata": {},
   "outputs": [
    {
     "data": {
      "text/html": [
       "<div>\n",
       "<style scoped>\n",
       "    .dataframe tbody tr th:only-of-type {\n",
       "        vertical-align: middle;\n",
       "    }\n",
       "\n",
       "    .dataframe tbody tr th {\n",
       "        vertical-align: top;\n",
       "    }\n",
       "\n",
       "    .dataframe thead th {\n",
       "        text-align: right;\n",
       "    }\n",
       "</style>\n",
       "<table border=\"1\" class=\"dataframe\">\n",
       "  <thead>\n",
       "    <tr style=\"text-align: right;\">\n",
       "      <th></th>\n",
       "      <th>audit_id</th>\n",
       "      <th>seller_id</th>\n",
       "      <th>audit_date</th>\n",
       "      <th>complaince_score</th>\n",
       "    </tr>\n",
       "  </thead>\n",
       "  <tbody>\n",
       "    <tr>\n",
       "      <th>0</th>\n",
       "      <td>A1</td>\n",
       "      <td>S847</td>\n",
       "      <td>2023-12-01 13:46:04</td>\n",
       "      <td>74</td>\n",
       "    </tr>\n",
       "    <tr>\n",
       "      <th>1</th>\n",
       "      <td>A2</td>\n",
       "      <td>S284</td>\n",
       "      <td>2023-08-02 03:52:41</td>\n",
       "      <td>68</td>\n",
       "    </tr>\n",
       "    <tr>\n",
       "      <th>2</th>\n",
       "      <td>A3</td>\n",
       "      <td>S443</td>\n",
       "      <td>2023-04-29 01:47:49</td>\n",
       "      <td>75</td>\n",
       "    </tr>\n",
       "  </tbody>\n",
       "</table>\n",
       "</div>"
      ],
      "text/plain": [
       "  audit_id seller_id          audit_date  complaince_score\n",
       "0       A1      S847 2023-12-01 13:46:04                74\n",
       "1       A2      S284 2023-08-02 03:52:41                68\n",
       "2       A3      S443 2023-04-29 01:47:49                75"
      ]
     },
     "execution_count": 22,
     "metadata": {},
     "output_type": "execute_result"
    }
   ],
   "source": [
    "audits.head(3)"
   ]
  },
  {
   "cell_type": "code",
   "execution_count": 23,
   "id": "145e32aa-74ef-43bd-aad8-932e460d4efb",
   "metadata": {},
   "outputs": [],
   "source": [
    "# Save to CSV\n",
    "seller.to_csv('seller.csv', index=False)\n",
    "order_details.to_csv('order_details.csv', index=False)\n",
    "inventory.to_csv('inventory.csv', index=False)\n",
    "customer_feedback.to_csv('customer_feedback.csv', index=False)\n",
    "audits.to_csv('audits.csv', index=False)"
   ]
  },
  {
   "cell_type": "code",
   "execution_count": null,
   "id": "c06d8475-28bf-4e28-9863-1d4e0b7b4880",
   "metadata": {},
   "outputs": [],
   "source": []
  },
  {
   "cell_type": "code",
   "execution_count": null,
   "id": "36d43191-f6d0-4180-b09b-ed21e5ee0edb",
   "metadata": {},
   "outputs": [],
   "source": []
  },
  {
   "cell_type": "code",
   "execution_count": null,
   "id": "a8a638e4-347a-4c07-85c3-6697aa9cadad",
   "metadata": {},
   "outputs": [],
   "source": []
  }
 ],
 "metadata": {
  "kernelspec": {
   "display_name": "Python 3 (ipykernel)",
   "language": "python",
   "name": "python3"
  },
  "language_info": {
   "codemirror_mode": {
    "name": "ipython",
    "version": 3
   },
   "file_extension": ".py",
   "mimetype": "text/x-python",
   "name": "python",
   "nbconvert_exporter": "python",
   "pygments_lexer": "ipython3",
   "version": "3.12.7"
  }
 },
 "nbformat": 4,
 "nbformat_minor": 5
}
